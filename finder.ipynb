{
 "cells": [
  {
   "cell_type": "code",
   "execution_count": 1,
   "metadata": {
    "collapsed": true,
    "ExecuteTime": {
     "end_time": "2023-09-28T06:35:11.317499Z",
     "start_time": "2023-09-28T06:35:11.143915Z"
    }
   },
   "outputs": [],
   "source": [
    "import openpyxl as op"
   ]
  },
  {
   "cell_type": "code",
   "execution_count": 2,
   "outputs": [],
   "source": [
    "wb = op.load_workbook(r\"test.xlsx\") #워크북 객체 생성(파일명 : test.xlsx)\n",
    "ws = wb.active  #활성화 되어있는 시트 설정(시트명 : \"업\")"
   ],
   "metadata": {
    "collapsed": false,
    "ExecuteTime": {
     "end_time": "2023-09-28T06:38:35.442769Z",
     "start_time": "2023-09-28T06:38:35.426758Z"
    }
   }
  },
  {
   "cell_type": "code",
   "execution_count": 3,
   "outputs": [
    {
     "name": "stdout",
     "output_type": "stream",
     "text": [
      "cell(1,2) :  None\n",
      "Range(\"B1\"): None\n"
     ]
    }
   ],
   "source": [
    "\n",
    "#방법 1 : Sheet의 Cell 속성 사용하기\n",
    "data1 = ws.cell(row=1, column=2).value\n",
    "\n",
    "#방법 2 : 엑셀 인덱스(Range) 사용하기\n",
    "data2 = ws[\"B1\"].value\n",
    "\n",
    "#위 결과 출력해보기\n",
    "print(\"cell(1,2) : \", data1)\n",
    "print('Range(\"B1\"):', data2)"
   ],
   "metadata": {
    "collapsed": false,
    "ExecuteTime": {
     "end_time": "2023-09-28T06:38:45.100957Z",
     "start_time": "2023-09-28T06:38:45.094740Z"
    }
   }
  },
  {
   "cell_type": "code",
   "execution_count": 6,
   "outputs": [
    {
     "name": "stdout",
     "output_type": "stream",
     "text": [
      "Range(a1:b1) :  ((<Cell 'Sheet'.A1>, <Cell 'Sheet'.B1>),)\n"
     ]
    }
   ],
   "source": [
    "rng = ws[\"A1:B1\"] #A1:B1 범위 저장\n",
    "print(\"Range(a1:b1) : \", rng) #출력값은 튜플"
   ],
   "metadata": {
    "collapsed": false,
    "ExecuteTime": {
     "end_time": "2023-09-28T06:44:10.088303Z",
     "start_time": "2023-09-28T06:44:10.082648Z"
    }
   }
  },
  {
   "cell_type": "code",
   "execution_count": 7,
   "outputs": [],
   "source": [
    "#\"B1\" Cell에 입력하기\n",
    "ws.cell(row=1, column=2).value = \"입력테스트1\""
   ],
   "metadata": {
    "collapsed": false,
    "ExecuteTime": {
     "end_time": "2023-09-28T06:44:24.649271Z",
     "start_time": "2023-09-28T06:44:24.633314Z"
    }
   }
  },
  {
   "cell_type": "code",
   "execution_count": 11,
   "outputs": [],
   "source": [
    "wb.save(\"result.xlsx\")"
   ],
   "metadata": {
    "collapsed": false,
    "ExecuteTime": {
     "end_time": "2023-09-28T06:45:15.180644Z",
     "start_time": "2023-09-28T06:45:15.168585Z"
    }
   }
  },
  {
   "cell_type": "code",
   "execution_count": 21,
   "outputs": [
    {
     "name": "stdout",
     "output_type": "stream",
     "text": [
      "(None, '입력테스트1', None, None, None)\n",
      "None\n",
      "입력테스트1\n",
      "None\n",
      "None\n",
      "None\n",
      "(None, None, None, None, None)\n",
      "None\n",
      "None\n",
      "None\n",
      "None\n",
      "None\n",
      "(None, None, None, None, None)\n",
      "None\n",
      "None\n",
      "None\n",
      "None\n",
      "None\n"
     ]
    }
   ],
   "source": [
    "#iter_rows 데이터 가져오기\n",
    "for row in ws.iter_rows(min_row=1, max_col=5, max_row=3, values_only=True):\n",
    "    print(row)\n",
    "    for cell in row:\n",
    "        print(cell)"
   ],
   "metadata": {
    "collapsed": false,
    "ExecuteTime": {
     "end_time": "2023-09-28T08:01:28.219500Z",
     "start_time": "2023-09-28T08:01:28.212815Z"
    }
   }
  },
  {
   "cell_type": "code",
   "execution_count": null,
   "outputs": [],
   "source": [],
   "metadata": {
    "collapsed": false
   }
  }
 ],
 "metadata": {
  "kernelspec": {
   "display_name": "Python 3",
   "language": "python",
   "name": "python3"
  },
  "language_info": {
   "codemirror_mode": {
    "name": "ipython",
    "version": 2
   },
   "file_extension": ".py",
   "mimetype": "text/x-python",
   "name": "python",
   "nbconvert_exporter": "python",
   "pygments_lexer": "ipython2",
   "version": "2.7.6"
  }
 },
 "nbformat": 4,
 "nbformat_minor": 0
}
